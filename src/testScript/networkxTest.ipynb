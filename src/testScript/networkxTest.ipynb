{
 "cells": [
  {
   "cell_type": "code",
   "execution_count": 1,
   "source": [
    "from mmdps.util.loadsave import load_csvmat\r\n",
    "import numpy as np \r\n"
   ],
   "outputs": [],
   "metadata": {}
  },
  {
   "cell_type": "code",
   "execution_count": 17,
   "source": [
    "path = 'Z:\\\\BOLD\\\\baihanxiang_20190211\\\\bnatlas\\\\bold_net\\\\corrcoef.csv'\r\n",
    "tmp = load_csvmat(path)\r\n",
    "threshold = 0.3\r\n",
    "tmp = np.abs(tmp)\r\n",
    "row, col = np.diag_indices_from(tmp)\r\n",
    "tmp[row,col] = 0\r\n",
    "tmp[tmp>=threshold] = 1\r\n",
    "tmp[tmp<threshold] = 0\r\n",
    "tmp = tmp.astype(int)\r\n"
   ],
   "outputs": [],
   "metadata": {}
  },
  {
   "cell_type": "code",
   "execution_count": 18,
   "source": [
    "np.sum(tmp)/(tmp.shape[0]**2)"
   ],
   "outputs": [
    {
     "output_type": "execute_result",
     "data": {
      "text/plain": [
       "0.14994381651133584"
      ]
     },
     "metadata": {},
     "execution_count": 18
    }
   ],
   "metadata": {}
  },
  {
   "cell_type": "code",
   "execution_count": 15,
   "source": [
    "out = []\r\n",
    "_m, _n = tmp.shape[0],tmp.shape[1]\r\n",
    "_tmp = tmp.tolist()\r\n",
    "for i in range(_m):\r\n",
    "    _t = []\r\n",
    "    for j in range(_n):\r\n",
    "        _t.append(str(tmp[i][j]))\r\n",
    "    out.append(''.join(_t))\r\n",
    "\r\n"
   ],
   "outputs": [],
   "metadata": {}
  },
  {
   "cell_type": "code",
   "execution_count": 16,
   "source": [
    "with open('adjMatrix{}_{}.txt'.format(_m,threshold),'w') as f:\r\n",
    "    for line in out:\r\n",
    "        f.write(line+'\\n')"
   ],
   "outputs": [],
   "metadata": {}
  },
  {
   "cell_type": "code",
   "execution_count": null,
   "source": [
    "path = 'D:\\\\zhangziliang\\\\GitWorkspace\\\\maximal_clique_enumeration_parallel_zzl\\\\maximal_clique_enumeration_parallel_zzl\\\\data\\\\adjMatrix03.txt'\r\n",
    "from mmdps.util.loadsave import load_txt\r\n",
    "tmp = load_txt(path)\r\n",
    "print(tmp)"
   ],
   "outputs": [],
   "metadata": {}
  },
  {
   "cell_type": "code",
   "execution_count": 46,
   "source": [
    "_s = ''\r\n",
    "for i in tmp:\r\n",
    "    _s += i\r\n",
    "print(len(_s))\r\n",
    "import collections\r\n",
    "count = collections.Counter(_s)\r\n",
    "print(count)\r\n",
    "print(count['1']/(count['0']+count['1']))"
   ],
   "outputs": [
    {
     "output_type": "stream",
     "name": "stdout",
     "text": [
      "60516\n",
      "Counter({'0': 50138, '1': 10378})\n",
      "0.17149183686958822\n"
     ]
    }
   ],
   "metadata": {}
  }
 ],
 "metadata": {
  "kernelspec": {
   "name": "python3",
   "display_name": "Python 3.8.8 64-bit ('base': conda)"
  },
  "language_info": {
   "codemirror_mode": {
    "name": "ipython",
    "version": 3
   },
   "file_extension": ".py",
   "mimetype": "text/x-python",
   "name": "python",
   "nbconvert_exporter": "python",
   "pygments_lexer": "ipython3",
   "version": "3.8.8"
  },
  "interpreter": {
   "hash": "668058c8722883022f2752b2ed1e1fda9e003b4ae9b7334f6b08d66b475ba4c0"
  }
 },
 "nbformat": 4,
 "nbformat_minor": 5
}